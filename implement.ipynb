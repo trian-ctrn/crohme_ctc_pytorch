{
 "cells": [
  {
   "cell_type": "markdown",
   "metadata": {},
   "source": [
    "# Import library"
   ]
  },
  {
   "cell_type": "code",
   "execution_count": 1,
   "metadata": {},
   "outputs": [],
   "source": [
    "import torch \n",
    "import os\n",
    "import numpy as np\n",
    "import matplotlib.pyplot as plt\n",
    "import xml.etree.ElementTree as ET\n",
    "\n"
   ]
  },
  {
   "cell_type": "markdown",
   "metadata": {},
   "source": [
    "# Dataset & Dataloader \n",
    "## Build vocab\n"
   ]
  },
  {
   "cell_type": "code",
   "execution_count": 2,
   "metadata": {},
   "outputs": [],
   "source": [
    "input_files = ['crohme2019_train.txt', 'crohme2019_test.txt', 'crohme2019_valid.txt']"
   ]
  },
  {
   "cell_type": "code",
   "execution_count": 3,
   "metadata": {},
   "outputs": [],
   "source": [
    "vocab = set()\n",
    "for input_file in input_files:\n",
    "    for line in open(input_file).readlines():\n",
    "        if len(line.strip().split('\\t')) == 2:\n",
    "            vocab.update(line.strip().split('\\t')[1].split())"
   ]
  },
  {
   "cell_type": "code",
   "execution_count": 4,
   "metadata": {},
   "outputs": [],
   "source": [
    "vocab_syms = [v for v in vocab if v not in ['Above', 'Below', 'Inside', 'NoRel', 'Right', 'Sub', 'Sup']]"
   ]
  },
  {
   "cell_type": "code",
   "execution_count": 5,
   "metadata": {},
   "outputs": [],
   "source": [
    "with open('crohme_vocab.txt', 'w') as f:\n",
    "    f.writelines([c + '\\n' for c in sorted(vocab_syms)])\n",
    "    f.writelines([c + '\\n' for c in ['Above', 'Below', 'Inside', 'NoRel', 'Right', 'Sub', 'Sup']])"
   ]
  },
  {
   "cell_type": "code",
   "execution_count": 6,
   "metadata": {},
   "outputs": [],
   "source": [
    "class Vocab(object):\n",
    "    def __init__(self, vocab_file=None):\n",
    "        self.word2index = {}\n",
    "        self.index2word = {}\n",
    "\n",
    "        if vocab_file:\n",
    "            self.load_vocab(vocab_file)\n",
    "    \n",
    "    def load_vocab(self, vocab_file):\n",
    "        # load vocab from file\n",
    "        with open(vocab_file, 'r') as f:\n",
    "            for i, line in enumerate(f):\n",
    "                word = line.strip()\n",
    "                self.word2index[word] = i\n",
    "                self.index2word[i] = word\n",
    "        # add blank word\n",
    "        self.word2index['<blank>'] = len(self.word2index)\n",
    "        self.index2word[self.word2index['<blank>']] = '<blank>'"
   ]
  },
  {
   "cell_type": "code",
   "execution_count": 7,
   "metadata": {},
   "outputs": [
    {
     "name": "stdout",
     "output_type": "stream",
     "text": [
      "[79, 107, 62, 104, 1, 105, 97, 105, 2, 105, 17, 104, 8, 104, 4, 102, 9, 105, 66, 103, 97]\n"
     ]
    }
   ],
   "source": [
    "vocab = Vocab('crohme_vocab.txt')\n",
    "input = 'f Sup \\prime NoRel ( Right x Right ) Right = NoRel 1 NoRel - Below 2 Right \\sqrt Inside x'.split()\n",
    "output = [vocab.word2index[word] for word in input]\n",
    "print(output)"
   ]
  },
  {
   "cell_type": "code",
   "execution_count": 8,
   "metadata": {},
   "outputs": [
    {
     "data": {
      "text/plain": [
       "{'!': 0,\n",
       " '(': 1,\n",
       " ')': 2,\n",
       " '+': 3,\n",
       " '-': 4,\n",
       " '.': 5,\n",
       " '/': 6,\n",
       " '0': 7,\n",
       " '1': 8,\n",
       " '2': 9,\n",
       " '3': 10,\n",
       " '4': 11,\n",
       " '5': 12,\n",
       " '6': 13,\n",
       " '7': 14,\n",
       " '8': 15,\n",
       " '9': 16,\n",
       " '=': 17,\n",
       " 'A': 18,\n",
       " 'B': 19,\n",
       " 'C': 20,\n",
       " 'COMMA': 21,\n",
       " 'E': 22,\n",
       " 'F': 23,\n",
       " 'G': 24,\n",
       " 'H': 25,\n",
       " 'I': 26,\n",
       " 'L': 27,\n",
       " 'M': 28,\n",
       " 'N': 29,\n",
       " 'P': 30,\n",
       " 'R': 31,\n",
       " 'S': 32,\n",
       " 'T': 33,\n",
       " 'V': 34,\n",
       " 'X': 35,\n",
       " 'Y': 36,\n",
       " '[': 37,\n",
       " '\\\\Delta': 38,\n",
       " '\\\\alpha': 39,\n",
       " '\\\\beta': 40,\n",
       " '\\\\cos': 41,\n",
       " '\\\\div': 42,\n",
       " '\\\\exists': 43,\n",
       " '\\\\forall': 44,\n",
       " '\\\\gamma': 45,\n",
       " '\\\\geq': 46,\n",
       " '\\\\gt': 47,\n",
       " '\\\\in': 48,\n",
       " '\\\\infty': 49,\n",
       " '\\\\int': 50,\n",
       " '\\\\lambda': 51,\n",
       " '\\\\ldots': 52,\n",
       " '\\\\leq': 53,\n",
       " '\\\\lim': 54,\n",
       " '\\\\log': 55,\n",
       " '\\\\lt': 56,\n",
       " '\\\\mu': 57,\n",
       " '\\\\neq': 58,\n",
       " '\\\\phi': 59,\n",
       " '\\\\pi': 60,\n",
       " '\\\\pm': 61,\n",
       " '\\\\prime': 62,\n",
       " '\\\\rightarrow': 63,\n",
       " '\\\\sigma': 64,\n",
       " '\\\\sin': 65,\n",
       " '\\\\sqrt': 66,\n",
       " '\\\\sum': 67,\n",
       " '\\\\tan': 68,\n",
       " '\\\\theta': 69,\n",
       " '\\\\times': 70,\n",
       " '\\\\{': 71,\n",
       " '\\\\}': 72,\n",
       " ']': 73,\n",
       " 'a': 74,\n",
       " 'b': 75,\n",
       " 'c': 76,\n",
       " 'd': 77,\n",
       " 'e': 78,\n",
       " 'f': 79,\n",
       " 'g': 80,\n",
       " 'h': 81,\n",
       " 'i': 82,\n",
       " 'j': 83,\n",
       " 'k': 84,\n",
       " 'l': 85,\n",
       " 'm': 86,\n",
       " 'n': 87,\n",
       " 'o': 88,\n",
       " 'p': 89,\n",
       " 'q': 90,\n",
       " 'r': 91,\n",
       " 's': 92,\n",
       " 't': 93,\n",
       " 'u': 94,\n",
       " 'v': 95,\n",
       " 'w': 96,\n",
       " 'x': 97,\n",
       " 'y': 98,\n",
       " 'z': 99,\n",
       " '|': 100,\n",
       " 'Above': 101,\n",
       " 'Below': 102,\n",
       " 'Inside': 103,\n",
       " 'NoRel': 104,\n",
       " 'Right': 105,\n",
       " 'Sub': 106,\n",
       " 'Sup': 107,\n",
       " '<blank>': 108}"
      ]
     },
     "execution_count": 8,
     "metadata": {},
     "output_type": "execute_result"
    }
   ],
   "source": [
    "vocab.word2index"
   ]
  },
  {
   "cell_type": "code",
   "execution_count": 9,
   "metadata": {},
   "outputs": [
    {
     "data": {
      "text/plain": [
       "{0: '!',\n",
       " 1: '(',\n",
       " 2: ')',\n",
       " 3: '+',\n",
       " 4: '-',\n",
       " 5: '.',\n",
       " 6: '/',\n",
       " 7: '0',\n",
       " 8: '1',\n",
       " 9: '2',\n",
       " 10: '3',\n",
       " 11: '4',\n",
       " 12: '5',\n",
       " 13: '6',\n",
       " 14: '7',\n",
       " 15: '8',\n",
       " 16: '9',\n",
       " 17: '=',\n",
       " 18: 'A',\n",
       " 19: 'B',\n",
       " 20: 'C',\n",
       " 21: 'COMMA',\n",
       " 22: 'E',\n",
       " 23: 'F',\n",
       " 24: 'G',\n",
       " 25: 'H',\n",
       " 26: 'I',\n",
       " 27: 'L',\n",
       " 28: 'M',\n",
       " 29: 'N',\n",
       " 30: 'P',\n",
       " 31: 'R',\n",
       " 32: 'S',\n",
       " 33: 'T',\n",
       " 34: 'V',\n",
       " 35: 'X',\n",
       " 36: 'Y',\n",
       " 37: '[',\n",
       " 38: '\\\\Delta',\n",
       " 39: '\\\\alpha',\n",
       " 40: '\\\\beta',\n",
       " 41: '\\\\cos',\n",
       " 42: '\\\\div',\n",
       " 43: '\\\\exists',\n",
       " 44: '\\\\forall',\n",
       " 45: '\\\\gamma',\n",
       " 46: '\\\\geq',\n",
       " 47: '\\\\gt',\n",
       " 48: '\\\\in',\n",
       " 49: '\\\\infty',\n",
       " 50: '\\\\int',\n",
       " 51: '\\\\lambda',\n",
       " 52: '\\\\ldots',\n",
       " 53: '\\\\leq',\n",
       " 54: '\\\\lim',\n",
       " 55: '\\\\log',\n",
       " 56: '\\\\lt',\n",
       " 57: '\\\\mu',\n",
       " 58: '\\\\neq',\n",
       " 59: '\\\\phi',\n",
       " 60: '\\\\pi',\n",
       " 61: '\\\\pm',\n",
       " 62: '\\\\prime',\n",
       " 63: '\\\\rightarrow',\n",
       " 64: '\\\\sigma',\n",
       " 65: '\\\\sin',\n",
       " 66: '\\\\sqrt',\n",
       " 67: '\\\\sum',\n",
       " 68: '\\\\tan',\n",
       " 69: '\\\\theta',\n",
       " 70: '\\\\times',\n",
       " 71: '\\\\{',\n",
       " 72: '\\\\}',\n",
       " 73: ']',\n",
       " 74: 'a',\n",
       " 75: 'b',\n",
       " 76: 'c',\n",
       " 77: 'd',\n",
       " 78: 'e',\n",
       " 79: 'f',\n",
       " 80: 'g',\n",
       " 81: 'h',\n",
       " 82: 'i',\n",
       " 83: 'j',\n",
       " 84: 'k',\n",
       " 85: 'l',\n",
       " 86: 'm',\n",
       " 87: 'n',\n",
       " 88: 'o',\n",
       " 89: 'p',\n",
       " 90: 'q',\n",
       " 91: 'r',\n",
       " 92: 's',\n",
       " 93: 't',\n",
       " 94: 'u',\n",
       " 95: 'v',\n",
       " 96: 'w',\n",
       " 97: 'x',\n",
       " 98: 'y',\n",
       " 99: 'z',\n",
       " 100: '|',\n",
       " 101: 'Above',\n",
       " 102: 'Below',\n",
       " 103: 'Inside',\n",
       " 104: 'NoRel',\n",
       " 105: 'Right',\n",
       " 106: 'Sub',\n",
       " 107: 'Sup',\n",
       " 108: '<blank>'}"
      ]
     },
     "execution_count": 9,
     "metadata": {},
     "output_type": "execute_result"
    }
   ],
   "source": [
    "vocab.index2word"
   ]
  },
  {
   "cell_type": "markdown",
   "metadata": {},
   "source": [
    "## Write dataset class"
   ]
  },
  {
   "cell_type": "code",
   "execution_count": 18,
   "metadata": {},
   "outputs": [],
   "source": [
    "\n",
    "class Segment(object):\n",
    "    \"\"\"Class to reprsent a Segment compound of strokes (id) with an id and label.\"\"\"\n",
    "    __slots__ = ('id', 'label' ,'strId')\n",
    "    def __init__(self, *args):\n",
    "        if len(args) == 3:\n",
    "            self.id = args[0]\n",
    "            self.label = args[1]\n",
    "            self.strId = args[2]\n",
    "        else:\n",
    "            self.id = \"none\"\n",
    "            self.label = \"\"\n",
    "            self.strId = set([])\n",
    "\n",
    "class Inkml(object):\n",
    "    \"\"\"Class to represent an INKML file with strokes, segmentation and labels\"\"\"\n",
    "    __slots__ = ('fileName', 'strokes', 'strkOrder','segments','truth','UI')\n",
    "\n",
    "    NS = {'ns': 'http://www.w3.org/2003/InkML', 'xml': 'http://www.w3.org/XML/1998/namespace'}\n",
    "\n",
    "    def __init__(self,*args):\n",
    "        self.fileName = None\n",
    "        self.strokes = {}\n",
    "        self.strkOrder = []\n",
    "        self.segments = {}\n",
    "        self.truth = \"\"\n",
    "        self.UI = \"\"\n",
    "        if len(args) == 1:\n",
    "            self.fileName = args[0]\n",
    "            self.loadFromFile()\n",
    "    \n",
    "    def fixNS(self,ns,att):\n",
    "        \"\"\"Build the right tag or element name with namespace\"\"\"\n",
    "        return '{'+Inkml.NS[ns]+'}'+att\n",
    "\n",
    "    def loadFromFile(self):\n",
    "        \"\"\"load the ink from an inkml file (strokes, segments, labels)\"\"\"\n",
    "        tree = ET.parse(self.fileName)\n",
    "        # # ET.register_namespace();\n",
    "        root = tree.getroot()\n",
    "        for info in root.findall('ns:annotation',namespaces=Inkml.NS):\n",
    "            if 'type' in info.attrib:\n",
    "                if info.attrib['type'] == 'truth':\n",
    "                    self.truth = info.text.strip()\n",
    "                if info.attrib['type'] == 'UI':\n",
    "                    self.UI = info.text.strip()\n",
    "        for strk in root.findall('ns:trace',namespaces=Inkml.NS):\n",
    "            self.strokes[strk.attrib['id']] = strk.text.strip()\n",
    "            self.strkOrder.append(strk.attrib['id'])\n",
    "        segments = root.find('ns:traceGroup',namespaces=Inkml.NS)\n",
    "        if segments is None or len(segments) == 0:\n",
    "            return\n",
    "        for seg in (segments.iterfind('ns:traceGroup',namespaces=Inkml.NS)):\n",
    "            id = seg.attrib[self.fixNS('xml','id')]\n",
    "            label = seg.find('ns:annotation',namespaces=Inkml.NS).text\n",
    "            strkList = set([])\n",
    "            for t in seg.findall('ns:traceView',namespaces=Inkml.NS):\n",
    "                strkList.add(t.attrib['traceDataRef'])\n",
    "            self.segments[id] = Segment(id,label, strkList)\n",
    "        \n",
    "    def getTraces(self, height = 256):\n",
    "        traces_array = [np.array([p.strip().split()[:2]\n",
    "            for p in self.strokes[id].split(',')], dtype='float') \n",
    "              for id in self.strkOrder ]\n",
    "        \n",
    "        ratio = height / ((np.concatenate(traces_array, 0).max(0) - np.concatenate(traces_array, 0).min(0))[1] + 1e-6)\n",
    "        return [(trace * ratio).astype(int).tolist() for trace in traces_array]"
   ]
  },
  {
   "cell_type": "code",
   "execution_count": 19,
   "metadata": {},
   "outputs": [
    {
     "name": "stdout",
     "output_type": "stream",
     "text": [
      "[(1, 2), (81, 2), (7, 2), (22, 2), (11, 2), (17, 2), (16, 2), (8, 2), (11, 2), (37, 2), (20, 2), (31, 2), (1, 2), (76, 2), (10, 2), (15, 2)]\n"
     ]
    }
   ],
   "source": [
    "ink = Inkml(r'crohme2019\\crohme2019\\train/MfrDB2372.inkml')\n",
    "print([np.array(trace).shape for trace in ink.getTraces()])"
   ]
  },
  {
   "cell_type": "code",
   "execution_count": 20,
   "metadata": {},
   "outputs": [
    {
     "name": "stdout",
     "output_type": "stream",
     "text": [
      "[[612, 277]]\n",
      "[[417, 314], [418, 314], [422, 307], [425, 298], [430, 285], [442, 258], [449, 238], [451, 228], [453, 225], [453, 212], [451, 204], [448, 200], [445, 200], [442, 204], [438, 211], [436, 213], [435, 214], [431, 222], [431, 227], [431, 233], [431, 237], [430, 251], [424, 290], [424, 310], [423, 324], [422, 332], [422, 336], [422, 337], [419, 342], [417, 346], [415, 356], [412, 371], [412, 377], [412, 385], [412, 392], [412, 395], [414, 394], [417, 389], [424, 372], [430, 358], [432, 351], [434, 348], [434, 345], [434, 343], [434, 340], [434, 338], [432, 336], [432, 333], [431, 333], [431, 332], [431, 331], [429, 323], [427, 317], [424, 314], [423, 313], [423, 312], [422, 311], [421, 311], [419, 311], [417, 311], [416, 311], [415, 311], [414, 311], [412, 311], [410, 311], [416, 311], [421, 311], [425, 311], [427, 311], [429, 310], [431, 307], [432, 307], [443, 297], [444, 297], [445, 296], [451, 291], [463, 276], [468, 270], [469, 266], [470, 265], [470, 264]]\n",
      "[[476, 169], [476, 172], [476, 178], [476, 188], [476, 195], [476, 198], [476, 199]]\n",
      "[[535, 207], [534, 208], [528, 213], [519, 224], [513, 231], [508, 243], [506, 247], [506, 253], [506, 257], [506, 261], [506, 268], [503, 278], [503, 283], [502, 293], [502, 297], [502, 306], [502, 314], [502, 322], [502, 325], [503, 327], [503, 330], [504, 330]]\n",
      "[[586, 281], [585, 285], [574, 292], [553, 313], [529, 346], [522, 358], [519, 363], [517, 365], [517, 366], [516, 366], [516, 365]]\n",
      "[[540, 285], [540, 287], [540, 289], [540, 292], [542, 297], [546, 305], [548, 311], [548, 316], [550, 322], [554, 330], [558, 335], [559, 336], [559, 337], [559, 338], [560, 338], [561, 340], [562, 342]]\n",
      "[[576, 206], [579, 211], [588, 217], [600, 230], [613, 247], [624, 278], [629, 298], [634, 311], [635, 319], [637, 323], [637, 326], [637, 332], [637, 335], [637, 337], [637, 338], [637, 339]]\n",
      "[[678, 271], [679, 271], [684, 271], [692, 273], [701, 276], [707, 277], [711, 278], [712, 278]]\n",
      "[[678, 292], [679, 292], [685, 292], [691, 292], [697, 293], [700, 294], [704, 294], [705, 294], [706, 296], [707, 296], [709, 296]]\n",
      "[[832, 214], [832, 211], [834, 204], [834, 197], [834, 194], [834, 193], [834, 192], [834, 191], [834, 189], [835, 185], [836, 181], [836, 180], [837, 168], [837, 155], [837, 151], [837, 149], [837, 148], [837, 149], [837, 154], [838, 161], [839, 168], [841, 173], [843, 186], [844, 197], [845, 206], [848, 213], [849, 218], [851, 222], [852, 225], [852, 227], [854, 228], [855, 230], [855, 232], [856, 233], [856, 234], [856, 237], [856, 238]]\n",
      "[[791, 265], [792, 265], [795, 265], [803, 265], [811, 266], [818, 267], [825, 268], [842, 271], [856, 274], [865, 277], [872, 278], [881, 279], [888, 280], [896, 280], [914, 280], [924, 280], [933, 280], [940, 280], [942, 280], [943, 280]]\n",
      "[[808, 327], [809, 327], [814, 327], [816, 327], [819, 327], [821, 329], [821, 330], [821, 333], [821, 343], [821, 357], [819, 369], [818, 377], [815, 385], [814, 388], [811, 391], [806, 397], [803, 401], [802, 401], [801, 401], [802, 399], [806, 398], [809, 398], [812, 397], [816, 397], [821, 397], [831, 397], [841, 397], [844, 397], [848, 397], [849, 397], [850, 397]]\n",
      "[[872, 404]]\n",
      "[[850, 317], [851, 317], [852, 318], [854, 319], [851, 319], [847, 318], [842, 317], [839, 317], [838, 316], [837, 316], [836, 314], [835, 314], [834, 314], [834, 316], [834, 317], [834, 318], [835, 318], [836, 318], [837, 318], [838, 318], [839, 318], [842, 318], [843, 318], [844, 318], [847, 318], [848, 318], [849, 318], [850, 318], [851, 318], [852, 318], [852, 319], [852, 323], [852, 325], [852, 329], [854, 331], [854, 335], [855, 338], [855, 345], [856, 353], [858, 363], [861, 372], [861, 376], [862, 378], [863, 379], [865, 382], [868, 383], [870, 385], [871, 386], [874, 389], [875, 391], [876, 391], [876, 390], [876, 386], [872, 378], [865, 350], [861, 327], [858, 317], [856, 312], [856, 309], [856, 307], [856, 305], [856, 304], [856, 303], [856, 302], [858, 303], [867, 303], [876, 303], [898, 303], [916, 303], [927, 303], [942, 303], [952, 303], [955, 303], [957, 303], [960, 303], [959, 303]]\n",
      "[[940, 350], [936, 351], [930, 355], [927, 358], [922, 363], [917, 366], [913, 375], [909, 382], [908, 385], [903, 388]]\n",
      "[[902, 348], [902, 350], [903, 355], [914, 368], [921, 379], [926, 385], [928, 388], [930, 391], [931, 392], [933, 394], [935, 395], [937, 397], [939, 398], [940, 398], [940, 399]]\n"
     ]
    }
   ],
   "source": [
    "for trace in ink.getTraces():\n",
    "    print(trace)"
   ]
  },
  {
   "cell_type": "code",
   "execution_count": 21,
   "metadata": {},
   "outputs": [
    {
     "data": {
      "image/png": "[encoded data removed]",
      "text/plain": [
       "<Figure size 1600x400 with 1 Axes>"
      ]
     },
     "metadata": {},
     "output_type": "display_data"
    }
   ],
   "source": [
    "\n",
    "def visualize_inkml(ink_obj: Inkml):\n",
    "    ink = ink_obj\n",
    "\n",
    "    plt.figure(figsize=(16, 4))\n",
    "    plt.axis(\"off\")\n",
    "    for trace in ink.getTraces():\n",
    "        trace_arr = np.array(trace)\n",
    "        plt.plot(trace_arr[:, 0], -trace_arr[:, 1])  # invert y coordinate\n",
    "path = r'crohme2019/crohme2019/valid/18_em_0.inkml'\n",
    "ink = Inkml(path)\n",
    "visualize_inkml(ink)"
   ]
  },
  {
   "cell_type": "code",
   "execution_count": 22,
   "metadata": {},
   "outputs": [],
   "source": [
    "def remove_duplicate(trace):\n",
    "    # your implementation to remove consecutive duplicated points\n",
    "    new_trace = []\n",
    "    for point in trace: \n",
    "        if not new_trace or point != new_trace[-1]:\n",
    "            new_trace.append(point)\n",
    "    return new_trace"
   ]
  },
  {
   "cell_type": "code",
   "execution_count": 23,
   "metadata": {},
   "outputs": [
    {
     "name": "stdout",
     "output_type": "stream",
     "text": [
      "Passed\n"
     ]
    }
   ],
   "source": [
    "ink = Inkml(r'crohme2019/crohme2019/valid/18_em_0.inkml')\n",
    "traces = ink.getTraces()\n",
    "traces = [remove_duplicate(trace) for trace in traces]\n",
    "\n",
    "assert list(map(len,traces)) == [82, 16, 21, 78, 82, 15, 18, 18, 28, 58, 15, 19, 56, 70, 18, 21], \"Error: traces not correctly loaded\"\n",
    "print(\"Passed\")"
   ]
  },
  {
   "cell_type": "code",
   "execution_count": 24,
   "metadata": {},
   "outputs": [],
   "source": [
    "def find_stroke_ends(traces):\n",
    "    stroke_lengths = np.array([len(stroke) for stroke in traces])\n",
    "    end_indices = np.cumsum(stroke_lengths) - 1\n",
    "    return end_indices\n",
    "def feature_extraction (traces):\n",
    "    # your implementation\n",
    "    points = np.vstack(traces)\n",
    "    deltas = np.diff(points, axis = 0)\n",
    "    distances = np.linalg.norm(deltas, axis = 1).reshape(-1, 1)\n",
    "    epsilon = 1e-10\n",
    "    distances += epsilon\n",
    "    normalized_delta = deltas / distances\n",
    "    features = np.hstack((normalized_delta, distances))\n",
    "    return features"
   ]
  },
  {
   "cell_type": "code",
   "execution_count": 25,
   "metadata": {},
   "outputs": [
    {
     "name": "stdout",
     "output_type": "stream",
     "text": [
      "Passed\n"
     ]
    }
   ],
   "source": [
    "ink = Inkml(r'crohme2019/crohme2019/valid/18_em_0.inkml')\n",
    "traces = ink.getTraces()\n",
    "traces = [remove_duplicate(trace) for trace in traces]\n",
    "feature = feature_extraction(traces)\n",
    "\n",
    "import numpy.testing as npt\n",
    "assert feature.shape == (614, 3)\n",
    "npt.assert_allclose(feature.mean(axis=0), np.array([ 0.17677799,  0.29519369, 11.35540311]))\n",
    "npt.assert_allclose(feature.var(axis=0), np.array([3.75390418e-01, 5.06219812e-01, 4.19017361e+02])\n",
    ")\n",
    "print(\"Passed\")"
   ]
  },
  {
   "cell_type": "code",
   "execution_count": 26,
   "metadata": {},
   "outputs": [],
   "source": [
    "def find_stroke_ends(traces):\n",
    "    stroke_lengths = np.array([len(stroke) for stroke in traces])\n",
    "    end_indices = np.cumsum(stroke_lengths) - 1\n",
    "    return end_indices\n",
    "# def feature_extraction (traces):\n",
    "#     # your implementation\n",
    "#     points = np.vstack(traces)\n",
    "#     deltas = np.diff(points, axis = 0)\n",
    "#     distances = np.linalg.norm(deltas, axis = 1).reshape(-1, 1)\n",
    "#     normalized_delta = deltas / distances\n",
    "#     features = np.hstack((normalized_delta, distances))\n",
    "#     indices = find_stroke_ends(traces)\n",
    "#     pen_up = np.zeros((features.shape[0], 1))\n",
    "#     pen_up_indices = indices[:-1]\n",
    "#     pen_up[pen_up_indices] = 1\n",
    "#     features = np.hstack((features, pen_up))\n",
    "#     return features\n",
    "def feature_extraction(traces):\n",
    "    points = np.vstack(traces)\n",
    "    deltas = np.diff(points, axis=0)\n",
    "    distances = np.linalg.norm(deltas, axis=1).reshape(-1, 1)\n",
    "    normalized_delta = np.zeros(deltas.shape)\n",
    "    nonzero_distances_indices = distances[:, 0] != 0\n",
    "    normalized_delta[nonzero_distances_indices] = deltas[nonzero_distances_indices] / distances[nonzero_distances_indices]\n",
    "    features = np.hstack((normalized_delta, distances))\n",
    "    indices = find_stroke_ends(traces)\n",
    "    pen_up = np.zeros((features.shape[0], 1))\n",
    "    pen_up_indices = indices[:-1] \n",
    "    pen_up[pen_up_indices] = 1\n",
    "    features = np.hstack((features, pen_up))\n",
    "    return features"
   ]
  },
  {
   "cell_type": "code",
   "execution_count": 27,
   "metadata": {},
   "outputs": [
    {
     "name": "stdout",
     "output_type": "stream",
     "text": [
      "Passed\n"
     ]
    }
   ],
   "source": [
    "ink = Inkml(r'crohme2019/crohme2019/valid/18_em_0.inkml')\n",
    "traces = ink.getTraces()\n",
    "traces = [remove_duplicate(trace) for trace in traces]\n",
    "feature = feature_extraction(traces)\n",
    "\n",
    "import numpy.testing as npt\n",
    "assert feature.shape == (614, 4)\n",
    "npt.assert_array_equal(np.where(feature[:,3] == 1)[0], np.array([ 81,  97, 118, 196, 278, 293, 311, 329, 357, 415, 430, 449, 505,\n",
    "       575, 593]))\n",
    "print(\"Passed\")"
   ]
  },
  {
   "cell_type": "code",
   "execution_count": 28,
   "metadata": {},
   "outputs": [],
   "source": [
    "from torch.utils.data import Dataset\n",
    "import os\n",
    "import torch \n",
    "\n",
    "class InkmlDataset(Dataset):\n",
    "    def __init__(self, annotation, root_dir, vocab):\n",
    "        \"\"\"\n",
    "        Arguments:\n",
    "            annotation (string): annotation file\n",
    "            root_dir (string): Directory with all the images.\n",
    "        \"\"\"\n",
    "        self.annotation = annotation\n",
    "        self.root_dir = root_dir\n",
    "        self.vocab = vocab\n",
    "        \n",
    "        # load annotations\n",
    "        self.ink_paths = []\n",
    "        self.labels = []\n",
    "\n",
    "        # your code here\n",
    "        with open(annotation, 'r') as f:\n",
    "            for line in f: \n",
    "                parts = line.strip().split()\n",
    "                if parts: \n",
    "                    self.ink_paths.append(os.path.join(root_dir, parts[0]))\n",
    "                    self.labels.append(parts[1:])\n",
    "    def __len__(self):\n",
    "        return len(self.labels)\n",
    "\n",
    "    def __getitem__(self, idx):\n",
    "        # This code should return the idx-th sample in the dataset\n",
    "        \n",
    "        inkfile = self.ink_paths[idx]\n",
    "        label = self.labels[idx]\n",
    "\n",
    "        ### feature\n",
    "        # read inkml sample --> traces\n",
    "        traces = Inkml(inkfile).getTraces()\n",
    "        # remove consecutive duplicated points\n",
    "        traces = [remove_duplicate(trace) for trace in traces]\n",
    "        # extract features (delta_x / distance, delta_y / distance, distance, pen_up)\n",
    "        feature = feature_extraction(traces)\n",
    "        feature = torch.tensor(feature, dtype = torch.float)\n",
    "        ### label\n",
    "        # convert tokens of label into vocab indexes\n",
    "        label = [self.vocab.word2index[word] for word in label]\n",
    "        label = torch.tensor(label, dtype = torch.long)\n",
    "        input_len = torch.tensor([feature.shape[0]], dtype = torch.long)\n",
    "        label_len = torch.tensor([len(label)], dtype = torch.long)\n",
    "        return feature, label, input_len, label_len"
   ]
  },
  {
   "cell_type": "code",
   "execution_count": 29,
   "metadata": {},
   "outputs": [
    {
     "name": "stdout",
     "output_type": "stream",
     "text": [
      "Passed\n"
     ]
    }
   ],
   "source": [
    "dataset = InkmlDataset(annotation='crohme2019_valid.txt', root_dir='crohme2019', vocab=Vocab('crohme_vocab.txt'))\n",
    "feature, label, input_len, label_len = dataset.__getitem__(0)\n",
    "\n",
    "import numpy.testing as npt\n",
    "\n",
    "assert type(feature) == torch.Tensor\n",
    "assert type(label) == torch.Tensor\n",
    "assert feature.shape == (231, 4), feature.shape\n",
    "npt.assert_array_equal(label, np.array([59, 105, 1, 105, 59, 105, 1, 105, 87, 105, 2, 105, 2]))\n",
    "assert input_len == 231\n",
    "assert label_len == 13\n",
    "print(\"Passed\")"
   ]
  },
  {
   "cell_type": "code",
   "execution_count": 30,
   "metadata": {},
   "outputs": [],
   "source": [
    "from torch.nn.utils.rnn import pad_sequence\n",
    "def collate_fn(batch):\n",
    "    features = []\n",
    "    labels = []\n",
    "    input_lens = []\n",
    "    label_lens = []\n",
    "    for sample in batch:\n",
    "        feature, label, input_len, label_len = sample  \n",
    "        \n",
    "        features.append(feature)\n",
    "        labels.append(label)\n",
    "        input_lens.append(input_len)\n",
    "        label_lens.append(label_len)\n",
    "\n",
    "    features= pad_sequence(features, batch_first = True)\n",
    "    labels = pad_sequence(labels, batch_first=True)\n",
    "    input_lens = torch.cat(input_lens)\n",
    "    label_lens = torch.cat(label_lens)\n",
    "    return features, labels, input_lens, label_lens\n"
   ]
  },
  {
   "cell_type": "code",
   "execution_count": 31,
   "metadata": {},
   "outputs": [
    {
     "name": "stdout",
     "output_type": "stream",
     "text": [
      "Passed\n"
     ]
    }
   ],
   "source": [
    "features, labels, input_lens, label_lens = collate_fn([dataset[0], dataset[1]])\n",
    "\n",
    "import numpy.testing as npt\n",
    "\n",
    "assert type(input_lens) == torch.Tensor\n",
    "assert type(label_lens) == torch.Tensor\n",
    "\n",
    "assert features.shape == (2, 231, 4), features.shape\n",
    "assert labels.shape == (2, 13)\n",
    "npt.assert_array_equal(input_lens.numpy(), np.array([231, 102])) \n",
    "npt.assert_array_equal(label_lens, np.array([13, 5]))\n",
    "print(\"Passed\")"
   ]
  },
  {
   "cell_type": "code",
   "execution_count": 32,
   "metadata": {},
   "outputs": [
    {
     "name": "stdout",
     "output_type": "stream",
     "text": [
      "Passed\n"
     ]
    }
   ],
   "source": [
    "# test collate_fn with data loader\n",
    "from torch.utils.data import DataLoader\n",
    "data_loader = DataLoader(dataset, batch_size=2, shuffle=False, collate_fn=collate_fn)\n",
    "\n",
    "features, labels, input_lens, label_lens = next(iter(data_loader))\n",
    "assert features.shape == (2, 231, 4)\n",
    "assert labels.shape == (2, 13)\n",
    "npt.assert_array_equal(input_lens.numpy(), np.array([231, 102])) \n",
    "npt.assert_array_equal(label_lens, np.array([13, 5]))\n",
    "print(\"Passed\")"
   ]
  },
  {
   "cell_type": "markdown",
   "metadata": {},
   "source": [
    "## Add RDP to datastet"
   ]
  },
  {
   "cell_type": "code",
   "execution_count": 33,
   "metadata": {},
   "outputs": [],
   "source": [
    "from rdp import rdp\n",
    "class CROHME(Dataset):\n",
    "    def __init__(self, annotation, root_dir, vocab):\n",
    "        \"\"\"\n",
    "        Arguments:\n",
    "            annotation (string): annotation file\n",
    "            root_dir (string): Directory with all the images.\n",
    "        \"\"\"\n",
    "        self.annotation = annotation\n",
    "        self.root_dir = root_dir\n",
    "        self.vocab = vocab\n",
    "        \n",
    "        # load annotations\n",
    "        self.ink_paths = []\n",
    "        self.labels = []\n",
    "\n",
    "        # your code here\n",
    "        with open(annotation, 'r') as f:\n",
    "            for line in f: \n",
    "                parts = line.strip().split()\n",
    "                if parts: \n",
    "                    self.ink_paths.append(os.path.join(root_dir, parts[0]))\n",
    "                    self.labels.append(parts[1:])\n",
    "    def __len__(self):\n",
    "        return len(self.labels)\n",
    "\n",
    "    def __getitem__(self, idx):\n",
    "        # This code should return the idx-th sample in the dataset\n",
    "        \n",
    "        inkfile = self.ink_paths[idx]\n",
    "        label = self.labels[idx]\n",
    "\n",
    "        ### feature\n",
    "        # read inkml sample --> traces\n",
    "        traces = Inkml(inkfile).getTraces()\n",
    "        # remove consecutive duplicated points\n",
    "        traces = [remove_duplicate(trace) for trace in traces]\n",
    "\n",
    "        # Ramer-Douglas-Peucker simplification\n",
    "        traces = [rdp(np.array(trace), epsilon=0.3) for trace in traces]\n",
    "        \n",
    "        # extract features (delta_x / distance, delta_y / distance, distance, pen_up)\n",
    "        feature = feature_extraction(traces)\n",
    "        feature = torch.tensor(feature, dtype = torch.float)\n",
    "        ### label\n",
    "        # convert tokens of label into vocab indexes\n",
    "        label = [self.vocab.word2index[word] for word in label]\n",
    "        label = torch.tensor(label, dtype = torch.long)\n",
    "        input_len = torch.tensor([feature.shape[0]], dtype = torch.long)\n",
    "        label_len = torch.tensor([len(label)], dtype = torch.long)\n",
    "        return feature, label, input_len, label_len"
   ]
  },
  {
   "cell_type": "code",
   "execution_count": 34,
   "metadata": {},
   "outputs": [
    {
     "name": "stdout",
     "output_type": "stream",
     "text": [
      "torch.Size([181, 4]) torch.Size([13]) tensor([181]) tensor([13])\n"
     ]
    }
   ],
   "source": [
    "dataset = CROHME(annotation='crohme2019_valid.txt', root_dir='crohme2019', vocab=Vocab('crohme_vocab.txt'))\n",
    "feature, label, input_len, label_len = dataset.__getitem__(0)\n",
    "print(feature.shape, label.shape, input_len, label_len)"
   ]
  },
  {
   "cell_type": "code",
   "execution_count": 35,
   "metadata": {},
   "outputs": [],
   "source": [
    "import pytorch_lightning as pl\n",
    "class CROHMEDatamodule(pl.LightningDataModule):\n",
    "    def __init__(self, root_dir, train_annotation, validation_annotation, test_annotation, vocab_file, batch_size, num_workers=0):\n",
    "        super().__init__()\n",
    "        self.root_dir = root_dir\n",
    "        self.batch_size = batch_size\n",
    "        self.train_annotation = train_annotation\n",
    "        self.validation_annotation = validation_annotation\n",
    "        self.test_annotation = test_annotation\n",
    "        self.num_workers = num_workers\n",
    "        self.vocab = Vocab(vocab_file)\n",
    "\n",
    "    def setup(self, stage: str):\n",
    "        self.train_dataset = CROHME(self.train_annotation, self.root_dir, self.vocab)\n",
    "        self.val_dataset = CROHME(self.validation_annotation, self.root_dir, self.vocab)\n",
    "        self.test_dataset = CROHME(self.test_annotation, self.root_dir, self.vocab)\n",
    "\n",
    "    def train_dataloader(self):\n",
    "        return DataLoader(self.train_dataset, batch_size=self.batch_size, shuffle=True, collate_fn=collate_fn)\n",
    "\n",
    "    def val_dataloader(self):\n",
    "        return DataLoader(self.val_dataset, batch_size=self.batch_size, shuffle=False, collate_fn=collate_fn)\n",
    "\n",
    "    def test_dataloader(self):\n",
    "        return DataLoader(self.test_dataset, batch_size=self.batch_size, shuffle=False, collate_fn=collate_fn)"
   ]
  },
  {
   "cell_type": "markdown",
   "metadata": {},
   "source": [
    "# Models, loss functions"
   ]
  },
  {
   "cell_type": "code",
   "execution_count": 36,
   "metadata": {},
   "outputs": [],
   "source": [
    "import torch.nn as nn\n",
    "class LSTM_TemporalClassification(nn.Module):\n",
    "    def __init__(self, input_size, hidden_size, num_layers, num_classes):\n",
    "        # declare layers\n",
    "        super(LSTM_TemporalClassification, self).__init__()\n",
    "        self.lstm = nn.LSTM(input_size, hidden_size, num_layers, bidirectional=True, batch_first=True)\n",
    "        self.fc = nn.Linear(hidden_size * 2, num_classes)\n",
    "        self.vocab = Vocab(\"crohme_vocab.txt\")\n",
    "        \n",
    "    def forward(self, x):\n",
    "        # write calculation process here\n",
    "        x, _  = self.lstm(x)\n",
    "        x = self.fc(x)\n",
    "\n",
    "        return x"
   ]
  },
  {
   "cell_type": "code",
   "execution_count": 37,
   "metadata": {},
   "outputs": [
    {
     "name": "stdout",
     "output_type": "stream",
     "text": [
      "Passed\n"
     ]
    }
   ],
   "source": [
    "model = LSTM_TemporalClassification(4, 128, 3, 109)\n",
    "assert model.forward(torch.rand((10, 100, 4))).shape == (10, 100, 109)\n",
    "print(\"Passed\")"
   ]
  },
  {
   "cell_type": "code",
   "execution_count": 35,
   "metadata": {},
   "outputs": [],
   "source": [
    "class MathOnlineModel(pl.LightningModule):\n",
    "    def __init__(self, lr=0.001, input_size=4, output_size=109, hidden_size=128, num_layers=3, decoder=None):\n",
    "        super().__init__()\n",
    "        self.model = LSTM_TemporalClassification(input_size, hidden_size, num_layers, output_size)\n",
    "        self.criterion = nn.CTCLoss(blank=output_size-1)\n",
    "        self.lr = lr\n",
    "        self.decoder = decoder  \n",
    "    def forward(self, x):\n",
    "        return self.model(x)\n",
    "    def training_step(self, batch, batch_idx):\n",
    "        x, y, input_len, label_len = batch\n",
    "        y_hat = self.forward(x)\n",
    "        y_hat = y_hat.permute(1, 0, 2)  # Adjusting from [batch, seq_length, num_classes]\n",
    "        loss = self.criterion(y_hat.log_softmax(2), y, input_len, label_len)\n",
    "        self.log('train_loss', loss, on_step=True, on_epoch=True, prog_bar=True)\n",
    "        return loss\n",
    "    \n",
    "    def validation_step(self, batch, batch_idx):\n",
    "        x, y, input_len, label_len = batch\n",
    "        y_hat = self.forward(x)\n",
    "        y_hat = y_hat.permute(1, 0, 2)  # Adjusting from [batch, seq_length, num_classes]\n",
    "        loss = self.criterion(y_hat.log_softmax(2), y, input_len, label_len)\n",
    "        self.log('val_loss', loss, on_epoch=True, prog_bar=True)\n",
    "        return loss\n",
    "    \n",
    "    def test_step(self, batch, batch_idx):\n",
    "        x, y, input_len, label_len = batch\n",
    "        y_hat = self.forward(x)\n",
    "        y_hat = y_hat.permute(1, 0, 2)  # Adjusting from [batch, seq_length, num_classes]\n",
    "        loss = self.criterion(y_hat.log_softmax(2), y, input_len, label_len)\n",
    "        self.log('test_loss', loss, on_epoch=True, prog_bar=True)\n",
    "        return loss\n",
    "\n",
    "    def configure_optimizers(self):\n",
    "        return torch.optim.Adam(self.model.parameters(), lr=self.lr)"
   ]
  },
  {
   "cell_type": "markdown",
   "metadata": {},
   "source": [
    "# Training with Trainer (pytorch lightning)"
   ]
  },
  {
   "cell_type": "code",
   "execution_count": null,
   "metadata": {},
   "outputs": [],
   "source": [
    "from pytorch_lightning.callbacks import ModelCheckpoint, LearningRateMonitor\n",
    "from pytorch_lightning.loggers import TensorBoardLogger\n",
    "from pytorch_lightning import Trainer\n",
    "\n",
    "trainer = Trainer(\n",
    "    # checkpoint_callback=True,\n",
    "    callbacks = [\n",
    "        LearningRateMonitor(logging_interval='step'),\n",
    "        ModelCheckpoint(filename='{epoch}-{val_loss:.4f}', save_top_k=5, monitor='val_loss', mode='min'),\n",
    "    ], \n",
    "    logger = TensorBoardLogger('lightning_logs'),\n",
    "    check_val_every_n_epoch=1,\n",
    "    fast_dev_run=False,\n",
    "    default_root_dir='checkpoint',\n",
    "    deterministic=False, \n",
    "    max_epochs=15, \n",
    "    log_every_n_steps=50,\n",
    "    devices = 1,\n",
    ")\n",
    "model = MathOnlineModel()\n",
    "dm = CROHMEDatamodule(root_dir='crohme2019', \n",
    "                       train_annotation='crohme2019_train.txt', \n",
    "                       validation_annotation='crohme2019_valid.txt', \n",
    "                       test_annotation='crohme2019_test.txt', \n",
    "                       vocab_file='crohme_vocab.txt', \n",
    "                       batch_size=1\n",
    "                       )\n",
    "        \n",
    "trainer.fit(model, dm)"
   ]
  },
  {
   "cell_type": "code",
   "execution_count": 38,
   "metadata": {},
   "outputs": [
    {
     "name": "stderr",
     "output_type": "stream",
     "text": [
      "GPU available: True (cuda), used: True\n",
      "TPU available: False, using: 0 TPU cores\n",
      "HPU available: False, using: 0 HPUs\n",
      "LOCAL_RANK: 0 - CUDA_VISIBLE_DEVICES: [0]\n",
      "c:\\Users\\trian\\anaconda3\\envs\\DETR\\lib\\site-packages\\pytorch_lightning\\trainer\\connectors\\data_connector.py:424: The 'test_dataloader' does not have many workers which may be a bottleneck. Consider increasing the value of the `num_workers` argument` to `num_workers=19` in the `DataLoader` to improve performance.\n"
     ]
    },
    {
     "name": "stdout",
     "output_type": "stream",
     "text": [
      "Testing DataLoader 0: 100%|██████████| 1199/1199 [01:36<00:00, 12.43it/s]\n"
     ]
    },
    {
     "data": {
      "text/html": [
       "<pre style=\"white-space:pre;overflow-x:auto;line-height:normal;font-family:Menlo,'DejaVu Sans Mono',consolas,'Courier New',monospace\">┏━━━━━━━━━━━━━━━━━━━━━━━━━━━┳━━━━━━━━━━━━━━━━━━━━━━━━━━━┓\n",
       "┃<span style=\"font-weight: bold\">        Test metric        </span>┃<span style=\"font-weight: bold\">       DataLoader 0        </span>┃\n",
       "┡━━━━━━━━━━━━━━━━━━━━━━━━━━━╇━━━━━━━━━━━━━━━━━━━━━━━━━━━┩\n",
       "│<span style=\"color: #008080; text-decoration-color: #008080\">         test_loss         </span>│<span style=\"color: #800080; text-decoration-color: #800080\">    0.6186525225639343     </span>│\n",
       "└───────────────────────────┴───────────────────────────┘\n",
       "</pre>\n"
      ],
      "text/plain": [
       "┏━━━━━━━━━━━━━━━━━━━━━━━━━━━┳━━━━━━━━━━━━━━━━━━━━━━━━━━━┓\n",
       "┃\u001b[1m \u001b[0m\u001b[1m       Test metric       \u001b[0m\u001b[1m \u001b[0m┃\u001b[1m \u001b[0m\u001b[1m      DataLoader 0       \u001b[0m\u001b[1m \u001b[0m┃\n",
       "┡━━━━━━━━━━━━━━━━━━━━━━━━━━━╇━━━━━━━━━━━━━━━━━━━━━━━━━━━┩\n",
       "│\u001b[36m \u001b[0m\u001b[36m        test_loss        \u001b[0m\u001b[36m \u001b[0m│\u001b[35m \u001b[0m\u001b[35m   0.6186525225639343    \u001b[0m\u001b[35m \u001b[0m│\n",
       "└───────────────────────────┴───────────────────────────┘\n"
      ]
     },
     "metadata": {},
     "output_type": "display_data"
    },
    {
     "data": {
      "text/plain": [
       "[{'test_loss': 0.6186525225639343}]"
      ]
     },
     "execution_count": 38,
     "metadata": {},
     "output_type": "execute_result"
    }
   ],
   "source": [
    "from pytorch_lightning import Trainer\n",
    "\n",
    "trainer = Trainer(\n",
    "    devices = 1,\n",
    ")\n",
    "\n",
    "# Load the model from a checkpoint\n",
    "model = MathOnlineModel.load_from_checkpoint(\n",
    "    r'lightning_logs/lightning_logs/version_0/checkpoints/epoch=9-val_loss=0.6065.ckpt',\n",
    ")\n",
    "\n",
    "# Initialize the data module\n",
    "dm = CROHMEDatamodule(root_dir='crohme2019', \n",
    "                       train_annotation='crohme2019_train.txt', \n",
    "                       validation_annotation='crohme2019_valid.txt', \n",
    "                       test_annotation='crohme2019_test.txt', \n",
    "                       vocab_file='crohme_vocab.txt', \n",
    "                       batch_size=1\n",
    "                       )\n",
    "\n",
    "# Test the model\n",
    "trainer.test(model, datamodule=dm)"
   ]
  },
  {
   "attachments": {
    "image.png": {
     "image/png": "[encoded data removed]"
    }
   },
   "cell_type": "markdown",
   "metadata": {},
   "source": [
    "- In case the output didn't load, here is the test loss in the test dataset\n",
    "\n",
    "![image.png](attachment:image.png)"
   ]
  },
  {
   "cell_type": "markdown",
   "metadata": {},
   "source": [
    "# Decode output"
   ]
  },
  {
   "cell_type": "code",
   "execution_count": 38,
   "metadata": {},
   "outputs": [],
   "source": [
    "from typing import List\n",
    "import torch\n",
    "class GreedyCTCDecoder(torch.nn.Module):\n",
    "    def __init__(self, vocab):\n",
    "        super().__init__()\n",
    "        self.vocab = vocab\n",
    "        self.blank = vocab.word2index['<blank>']\n",
    "\n",
    "    def forward(self, emission: torch.Tensor) -> List[str]:\n",
    "        \"\"\"Given a sequence emission over labels, get the best path\n",
    "        Args:\n",
    "          emission (Tensor): Logit tensors. Shape `[seq_len, num_label]`.\n",
    "\n",
    "        Returns:\n",
    "          List[str]: The resulting transcript\n",
    "        \"\"\"\n",
    "        # your implementation   \n",
    "        path_indices = torch.argmax(emission, dim=1)\n",
    "        filtered_path_indices = [path_indices[0].item()]\n",
    "        for i in range(1, len(path_indices)):\n",
    "            if path_indices[i] != path_indices[i-1]:\n",
    "                filtered_path_indices.append(path_indices[i].item())\n",
    "        filtered_path_indices = [i for i in filtered_path_indices if i != self.blank]\n",
    "        output_seq_list = [self.vocab.index2word[i] for i in filtered_path_indices] \n",
    "        return output_seq_list"
   ]
  },
  {
   "cell_type": "code",
   "execution_count": 37,
   "metadata": {},
   "outputs": [],
   "source": [
    "model = MathOnlineModel.load_from_checkpoint(r'lightning_logs/lightning_logs/version_0/checkpoints/epoch=9-val_loss=0.6065.ckpt')\n",
    "model.eval()\n",
    "model = model.to('cuda')"
   ]
  },
  {
   "cell_type": "code",
   "execution_count": 38,
   "metadata": {},
   "outputs": [
    {
     "name": "stdout",
     "output_type": "stream",
     "text": [
      "['\\\\phi', 'Right', '(', 'Right', '\\\\phi', 'Right', '(', 'Right', 'n', 'Right', ')', 'Right', ')']\n"
     ]
    }
   ],
   "source": [
    "dataset = CROHME(annotation='crohme2019_valid.txt', root_dir='crohme2019', vocab=Vocab('crohme_vocab.txt'))\n",
    "features, labels, input_lens, label_lens = dataset.__getitem__(0)\n",
    "features = features.to('cuda')\n",
    "greedy_decoder = GreedyCTCDecoder(vocab)\n",
    "output = model(features)\n",
    "decoded = greedy_decoder.forward(output.log_softmax(1))\n",
    "print(decoded)\n",
    "# possible output if your training work well\n",
    "# decoded -> ['\\\\phi', 'Right', '(', 'Right', '0', 'Right', '(', 'Right', 'n', 'Right', ')', 'Right', ')']"
   ]
  },
  {
   "cell_type": "code",
   "execution_count": 40,
   "metadata": {},
   "outputs": [
    {
     "name": "stdout",
     "output_type": "stream",
     "text": [
      "Passed\n"
     ]
    }
   ],
   "source": [
    "from torchmetrics.functional.text.helper import _LevenshteinEditDistance \n",
    "def edit_distance(pred_seq, label_seq):\n",
    "    # Your code here\n",
    "    input_words = pred_seq\n",
    "    cached_ed = _LevenshteinEditDistance(reference_tokens=label_seq)\n",
    "    distance, _ = cached_ed(input_words)\n",
    "    return distance\n",
    "\n",
    "# Test your implementation\n",
    "assert edit_distance(['\\\\phi',\n",
    "  'Right',\n",
    "  '(',\n",
    "  'Right',\n",
    "  '0',\n",
    "  'Right',\n",
    "  '(',\n",
    "  'Right',\n",
    "  'n',\n",
    "  'Right',\n",
    "  ')',\n",
    "  'Right',\n",
    "  ')'],\n",
    " ['\\\\phi',\n",
    "  'Right',\n",
    "  '(',\n",
    "  'Right',\n",
    "  '\\\\phi',\n",
    "  'Right',\n",
    "  '(',\n",
    "  'Right',\n",
    "  'n',\n",
    "  'Right',\n",
    "  ')',\n",
    "  'Right',\n",
    "  ')']) == 1\n",
    "print(\"Passed\")"
   ]
  },
  {
   "cell_type": "code",
   "execution_count": 40,
   "metadata": {},
   "outputs": [],
   "source": [
    "import pytorch_lightning as pl\n",
    "import torch\n",
    "from torchmetrics.functional.text.helper import _LevenshteinEditDistance \n",
    "\n",
    "class MathOnlineModel(pl.LightningModule):\n",
    "    def __init__(self, lr=0.001, input_size=4, output_size=109, hidden_size=128, num_layers = 3, decoder=None):\n",
    "        super().__init__()\n",
    "        self.model = LSTM_TemporalClassification(input_size, hidden_size, num_layers, output_size)\n",
    "        self.criterion = nn.CTCLoss(blank=output_size - 1)\n",
    "        self.lr = lr\n",
    "        self.decoder = GreedyCTCDecoder(vocab)\n",
    "        \n",
    "    def forward(self, x):\n",
    "        return self.model(x)\n",
    "    def training_step(self, batch, batch_idx):\n",
    "        x, y, x_lens, y_lens = batch\n",
    "        \n",
    "        # your code to calculate loss\n",
    "        y_hat = self.forward(x)\n",
    "        y_hat_reshaped = y_hat.permute(1, 0, 2)  # Adjusting from [batch, seq_length, num_classes]\n",
    "        loss = self.criterion(y_hat_reshaped.log_softmax(2), y, x_lens, y_lens)\n",
    "\n",
    "        # your code to calculate total edit distance\n",
    "        total_edits = 0\n",
    "        total_lens = 0\n",
    "        \n",
    "        # loop: calculate edit distance\n",
    "        for i in range(len(y)):\n",
    "            label = y[i].tolist()\n",
    "            label_seq = [vocab.index2word[index] for index in label]\n",
    "            pred_seq = self.decoder.forward(y_hat[i].log_softmax(1))\n",
    "            if len(label_seq) == 0:\n",
    "                continue\n",
    "            total_edits += edit_distance(pred_seq, label_seq)\n",
    "            total_lens += len(label_seq)\n",
    "            \n",
    "        self.log('train_loss', loss, prog_bar=True, on_step=True, on_epoch=True)\n",
    "        self.log('train_wer', total_edits / total_lens, prog_bar=True, on_step=True, on_epoch=True)\n",
    "        return loss\n",
    "    \n",
    "    def validation_step(self, batch, batch_idx):\n",
    "        x, y, x_lens, y_lens = batch\n",
    "        \n",
    "        # your code to calculate loss\n",
    "        y_hat = self.forward(x)\n",
    "        y_hat_reshaped = y_hat.permute(1, 0, 2)  # Adjusting from [batch, seq_length, num_classes]\n",
    "        loss = self.criterion(y_hat_reshaped.log_softmax(2), y, x_lens, y_lens)\n",
    "        \n",
    "        # your code to calculate total edit distance\n",
    "        total_edits = 0\n",
    "        total_lens = 0\n",
    "        \n",
    "        # loop: calculate edit distance\n",
    "        for i in range(len(y)):\n",
    "            label = y[i].tolist()\n",
    "            label_seq = [vocab.index2word[index] for index in label]\n",
    "            pred_seq = self.decoder.forward(y_hat[i].log_softmax(1))\n",
    "            if len(label_seq) == 0:\n",
    "                continue\n",
    "            total_edits += edit_distance(pred_seq, label_seq) \n",
    "            total_lens += len(label_seq)\n",
    "        \n",
    "        self.log('val_loss', loss, prog_bar=True, on_step=False, on_epoch=True)\n",
    "        self.log('val_wer', total_edits / total_lens, prog_bar=True, on_step=False, on_epoch=True)\n",
    "        return loss\n",
    "    \n",
    "    def test_step(self, batch, batch_idx):\n",
    "        x, y, x_lens, y_lens = batch\n",
    "        # your code to calculate loss\n",
    "        y_hat = self.forward(x)\n",
    "        y_hat_reshaped = y_hat.permute(1, 0, 2)  # Adjusting from [batch, seq_length, num_classes]\n",
    "        loss = self.criterion(y_hat_reshaped.log_softmax(2), y, x_lens, y_lens)\n",
    "        # your code to calculate total edit distance\n",
    "        total_edits = 0\n",
    "        total_lens = 0\n",
    "        \n",
    "        # loop: calculate edit distance\n",
    "        for i in range(len(y)):\n",
    "            label = y[i].tolist()\n",
    "            label_seq = [vocab.index2word[index] for index in label]\n",
    "            pred_seq = self.decoder.forward(y_hat[i].log_softmax(1))\n",
    "            total_edits += edit_distance(pred_seq, label_seq)\n",
    "            total_lens += len(label_seq)\n",
    "        \n",
    "        self.log('test_loss', loss, prog_bar=True, on_step=False, on_epoch=True)\n",
    "        self.log('test_wer', total_edits / total_lens, prog_bar=True, on_step=False, on_epoch=True)\n",
    "        return loss\n",
    "\n",
    "    def configure_optimizers(self):\n",
    "        return torch.optim.Adam(self.model.parameters(), lr=self.lr)"
   ]
  },
  {
   "cell_type": "code",
   "execution_count": null,
   "metadata": {},
   "outputs": [],
   "source": [
    "from pytorch_lightning.callbacks import ModelCheckpoint, LearningRateMonitor\n",
    "from pytorch_lightning.loggers import TensorBoardLogger\n",
    "from pytorch_lightning import Trainer\n",
    "\n",
    "trainer = Trainer(\n",
    "    # checkpoint_callback=True,\n",
    "    callbacks = [\n",
    "        LearningRateMonitor(logging_interval='step'),\n",
    "        ModelCheckpoint(filename='{epoch}-{val_wer:.4f}', save_top_k=5, monitor='val_wer', mode='min'),\n",
    "    ], \n",
    "    logger = TensorBoardLogger('lightning_logs'),\n",
    "    check_val_every_n_epoch=1,\n",
    "    fast_dev_run=False,\n",
    "    default_root_dir='checkpoint',\n",
    "    deterministic=False, \n",
    "    max_epochs=5, \n",
    "    log_every_n_steps=50,\n",
    "    devices = 1,\n",
    ")\n",
    "# model = MathOnlineModel()\n",
    "model = MathOnlineModel.load_from_checkpoint(r'lightning_logs/lightning_logs/version_2/checkpoints/epoch=4-val_wer=0.1602.ckpt')\n",
    "dm = CROHMEDatamodule(root_dir='crohme2019', \n",
    "                       train_annotation='crohme2019_train.txt', \n",
    "                       validation_annotation='crohme2019_valid.txt', \n",
    "                       test_annotation='crohme2019_test.txt', \n",
    "                       vocab_file='crohme_vocab.txt', \n",
    "                       batch_size=1\n",
    "                       )\n",
    "        \n",
    "trainer.fit(model, dm)"
   ]
  },
  {
   "cell_type": "markdown",
   "metadata": {},
   "source": []
  },
  {
   "cell_type": "code",
   "execution_count": 45,
   "metadata": {},
   "outputs": [
    {
     "name": "stderr",
     "output_type": "stream",
     "text": [
      "GPU available: True (cuda), used: True\n",
      "TPU available: False, using: 0 TPU cores\n",
      "HPU available: False, using: 0 HPUs\n",
      "LOCAL_RANK: 0 - CUDA_VISIBLE_DEVICES: [0]\n"
     ]
    },
    {
     "name": "stdout",
     "output_type": "stream",
     "text": [
      "Testing DataLoader 0: 100%|██████████| 986/986 [01:03<00:00, 15.60it/s]\n"
     ]
    },
    {
     "data": {
      "text/html": [
       "<pre style=\"white-space:pre;overflow-x:auto;line-height:normal;font-family:Menlo,'DejaVu Sans Mono',consolas,'Courier New',monospace\">┏━━━━━━━━━━━━━━━━━━━━━━━━━━━┳━━━━━━━━━━━━━━━━━━━━━━━━━━━┓\n",
       "┃<span style=\"font-weight: bold\">        Test metric        </span>┃<span style=\"font-weight: bold\">       DataLoader 0        </span>┃\n",
       "┡━━━━━━━━━━━━━━━━━━━━━━━━━━━╇━━━━━━━━━━━━━━━━━━━━━━━━━━━┩\n",
       "│<span style=\"color: #008080; text-decoration-color: #008080\">         test_loss         </span>│<span style=\"color: #800080; text-decoration-color: #800080\">    0.6263285875320435     </span>│\n",
       "│<span style=\"color: #008080; text-decoration-color: #008080\">         test_wer          </span>│<span style=\"color: #800080; text-decoration-color: #800080\">    0.16022250056266785    </span>│\n",
       "└───────────────────────────┴───────────────────────────┘\n",
       "</pre>\n"
      ],
      "text/plain": [
       "┏━━━━━━━━━━━━━━━━━━━━━━━━━━━┳━━━━━━━━━━━━━━━━━━━━━━━━━━━┓\n",
       "┃\u001b[1m \u001b[0m\u001b[1m       Test metric       \u001b[0m\u001b[1m \u001b[0m┃\u001b[1m \u001b[0m\u001b[1m      DataLoader 0       \u001b[0m\u001b[1m \u001b[0m┃\n",
       "┡━━━━━━━━━━━━━━━━━━━━━━━━━━━╇━━━━━━━━━━━━━━━━━━━━━━━━━━━┩\n",
       "│\u001b[36m \u001b[0m\u001b[36m        test_loss        \u001b[0m\u001b[36m \u001b[0m│\u001b[35m \u001b[0m\u001b[35m   0.6263285875320435    \u001b[0m\u001b[35m \u001b[0m│\n",
       "│\u001b[36m \u001b[0m\u001b[36m        test_wer         \u001b[0m\u001b[36m \u001b[0m│\u001b[35m \u001b[0m\u001b[35m   0.16022250056266785   \u001b[0m\u001b[35m \u001b[0m│\n",
       "└───────────────────────────┴───────────────────────────┘\n"
      ]
     },
     "metadata": {},
     "output_type": "display_data"
    }
   ],
   "source": [
    "from pytorch_lightning import Trainer\n",
    "\n",
    "trainer = Trainer(\n",
    "    devices = 1,\n",
    ")\n",
    "\n",
    "# Load the model from a checkpoint\n",
    "model = MathOnlineModel.load_from_checkpoint(\n",
    "    'lightning_logs/lightning_logs/version_2/checkpoints/epoch=4-val_wer=0.1602.ckpt', \n",
    "    decoder=GreedyCTCDecoder(dataset.vocab)\n",
    ")\n",
    "\n",
    "# Initialize the data module\n",
    "dm = CROHMEDatamodule(root_dir='crohme2019', \n",
    "                       train_annotation='crohme2019_train.txt', \n",
    "                       validation_annotation='crohme2019_valid.txt', \n",
    "                       test_annotation='crohme2019_valid.txt', \n",
    "                       vocab_file='crohme_vocab.txt', \n",
    "                       batch_size=1\n",
    "                       )\n",
    "\n",
    "# Test the model\n",
    "try:\n",
    "    trainer.test(model, datamodule=dm)\n",
    "except AttributeError:\n",
    "    print(\"Model is not implemented correctly\")\n",
    "    pass"
   ]
  },
  {
   "attachments": {
    "image.png": {
     "image/png": "[encoded data removed]"
    }
   },
   "cell_type": "markdown",
   "metadata": {},
   "source": [
    "Here is the output: \n",
    "\n",
    "![image.png](attachment:image.png)"
   ]
  },
  {
   "cell_type": "code",
   "execution_count": 45,
   "metadata": {},
   "outputs": [
    {
     "name": "stdout",
     "output_type": "stream",
     "text": [
      "Symbols: ['!', '(', ')', '+', '-', '.', '/', '0', '1', '2', '3', '4', '5', '6', '7', '8', '9', '=', 'A', 'B', 'C', 'COMMA', 'E', 'F', 'G', 'H', 'I', 'L', 'M', 'N', 'P', 'R', 'S', 'T', 'V', 'X', 'Y', '[', '\\\\Delta', '\\\\alpha', '\\\\beta', '\\\\cos', '\\\\div', '\\\\exists', '\\\\forall', '\\\\gamma', '\\\\geq', '\\\\gt', '\\\\in', '\\\\infty', '\\\\int', '\\\\lambda', '\\\\ldots', '\\\\leq', '\\\\lim', '\\\\log', '\\\\lt', '\\\\mu', '\\\\neq', '\\\\phi', '\\\\pi', '\\\\pm', '\\\\prime', '\\\\rightarrow', '\\\\sigma', '\\\\sin', '\\\\sqrt', '\\\\sum', '\\\\tan', '\\\\theta', '\\\\times', ']', 'a', 'b', 'c', 'd', 'e', 'f', 'g', 'h', 'i', 'j', 'k', 'l', 'm', 'n', 'o', 'p', 'q', 'r', 's', 't', 'u', 'v', 'w', 'x', 'y', 'z', '|']\n",
      "99\n",
      "Relations: ['\\\\{', '\\\\}', 'Above', 'Below', 'Inside', 'NoRel', 'Right', 'Sub', 'Sup']\n",
      "9\n"
     ]
    }
   ],
   "source": [
    "with open('crohme_vocab.txt', 'r') as file:\n",
    "    items = file.read().splitlines()\n",
    "\n",
    "symbols = []\n",
    "relations = []\n",
    "relation_keywords = {'Above', 'Below', 'Inside', 'NoRel', 'Right', 'Sub', 'Sup'}\n",
    "\n",
    "for item in items:\n",
    "    if item in relation_keywords or item.startswith(\"\\\\\") and not item[1:].isalpha():\n",
    "        relations.append(item)\n",
    "    else:\n",
    "        symbols.append(item)\n",
    "\n",
    "print(\"Symbols:\", symbols)\n",
    "print(len(symbols))\n",
    "print(\"Relations:\", relations)\n",
    "print(len(relations))"
   ]
  },
  {
   "cell_type": "code",
   "execution_count": 43,
   "metadata": {},
   "outputs": [],
   "source": [
    "import pytorch_lightning as pl\n",
    "import torch\n",
    "from torchmetrics.functional.text.helper import _LevenshteinEditDistance as _LE_distance\n",
    "\n",
    "class MathOnlineModel(pl.LightningModule):\n",
    "    def __init__(self, lr=0.001, input_size=4, output_size=109, hidden_size=128, num_layers = 3, decoder=None):\n",
    "        super().__init__()\n",
    "        self.model = LSTM_TemporalClassification(input_size, hidden_size, num_layers, output_size)\n",
    "        self.criterion = nn.CTCLoss(blank=output_size - 1)\n",
    "        self.lr = lr\n",
    "        self.decoder = decoder\n",
    "        \n",
    "    def forward(self, x):\n",
    "        return self.model(x)\n",
    "    \n",
    "    def separate_symbols_relations(self, sequence):\n",
    "        symbols = []\n",
    "        relations = []\n",
    "        relation_keywords = {'Above', 'Below', 'Inside', 'NoRel', 'Right', 'Sub', 'Sup'}\n",
    "        for item in sequence:\n",
    "            if item in relation_keywords or item.startswith(\"\\\\\") and not item[1:].isalpha():\n",
    "                relations.append(item)\n",
    "            else:\n",
    "                symbols.append(item)\n",
    "        return symbols, relations\n",
    "\n",
    "    def training_step(self, batch, batch_idx):\n",
    "        x, y, x_lens, y_lens = batch\n",
    "        \n",
    "        # your code to calculate loss\n",
    "        y_hat = self.forward(x)\n",
    "        y_hat_reshaped = y_hat.permute(1, 0, 2)  # Adjusting from [batch, seq_length, num_classes]\n",
    "        loss = self.criterion(y_hat_reshaped.log_softmax(2), y, x_lens, y_lens)\n",
    "\n",
    "        # your code to calculate total edit distance\n",
    "        total_edits = 0\n",
    "        total_lens = 0\n",
    "        total_edits_sym = 0\n",
    "        total_lens_sym = 0\n",
    "        total_edits_rel = 0\n",
    "        total_lens_rel = 0\n",
    "        # loop: calculate edit distance\n",
    "        for i in range(len(y)):\n",
    "            label = y[i].tolist()\n",
    "            label_seq = [vocab.index2word[index] for index in label]\n",
    "            pred_seq = self.decoder.forward(y_hat[i].log_softmax(1))\n",
    "            if len(label_seq) == 0:\n",
    "                continue\n",
    "            total_edits += edit_distance(pred_seq, label_seq)\n",
    "            total_lens += len(label_seq)\n",
    "            label_symbols, label_relations = self.separate_symbols_relations(label_seq)\n",
    "            pred_symbols, pred_relations = self.separate_symbols_relations(pred_seq)\n",
    "\n",
    "    \n",
    "            # Calculate edit distances for symbols and relations separately\n",
    "            total_edits_sym += edit_distance(pred_symbols, label_symbols)\n",
    "            total_lens_sym += len(label_symbols)\n",
    "            total_edits_rel += edit_distance(pred_relations, label_relations)\n",
    "            total_lens_rel += len(label_relations)\n",
    "            \n",
    "        self.log('train_loss', loss, prog_bar=True, on_step=True, on_epoch=True)\n",
    "        self.log('train_wer', total_edits / total_lens, prog_bar=True, on_step=True, on_epoch=True)\n",
    "\n",
    "        # complete the following metrics\n",
    "        self.log('train_wer_sym', total_edits_sym / total_lens_sym if total_lens_sym > 0 else 0, prog_bar=True, on_step=True, on_epoch=True)\n",
    "        self.log('train_wer_rel', total_edits_rel / total_lens_rel if total_lens_rel > 0 else 0, prog_bar=True, on_step=True, on_epoch=True)\n",
    "\n",
    "        \n",
    "        return loss\n",
    "    \n",
    "    def validation_step(self, batch, batch_idx):\n",
    "        x, y, x_lens, y_lens = batch\n",
    "        \n",
    "        # your code to calculate loss\n",
    "        y_hat = self.forward(x)\n",
    "        y_hat_reshaped = y_hat.permute(1, 0, 2)  # Adjusting from [batch, seq_length, num_classes]\n",
    "        loss = self.criterion(y_hat_reshaped.log_softmax(2), y, x_lens, y_lens)\n",
    "\n",
    "        # your code to calculate total edit distance\n",
    "        total_edits = 0\n",
    "        total_lens = 0\n",
    "        total_edits_sym = 0\n",
    "        total_lens_sym = 0\n",
    "        total_edits_rel = 0\n",
    "        total_lens_rel = 0\n",
    "        # loop: calculate edit distance\n",
    "        for i in range(len(y)):\n",
    "            label = y[i].tolist()\n",
    "            label_seq = [vocab.index2word[index] for index in label]\n",
    "            pred_seq = self.decoder.forward(y_hat[i].log_softmax(1))\n",
    "            if len(label_seq) == 0:\n",
    "                continue\n",
    "            total_edits += edit_distance(pred_seq, label_seq)\n",
    "            total_lens += len(label_seq)\n",
    "            label_symbols, label_relations = self.separate_symbols_relations(label_seq)\n",
    "            pred_symbols, pred_relations = self.separate_symbols_relations(pred_seq)\n",
    "\n",
    "    \n",
    "            # Calculate edit distances for symbols and relations separately\n",
    "            total_edits_sym += edit_distance(pred_symbols, label_symbols)\n",
    "            total_lens_sym += len(label_symbols)\n",
    "            total_edits_rel += edit_distance(pred_relations, label_relations)\n",
    "            total_lens_rel += len(label_relations)\n",
    "        \n",
    "        self.log('val_loss', loss, prog_bar=True, on_step=False, on_epoch=True)\n",
    "        self.log('val_wer', total_edits / total_lens, prog_bar=True, on_step=False, on_epoch=True)\n",
    "    \n",
    "        \n",
    "        # complete the following metrics\n",
    "        self.log('val_wer_sym', total_edits_sym / total_lens_sym if total_lens_sym > 0 else 0, prog_bar=True, on_step=False, on_epoch=True)\n",
    "        self.log('val_wer_rel', total_edits_rel / total_lens_rel if total_lens_rel > 0 else 0, prog_bar=True, on_step=False, on_epoch=True)\n",
    "        return loss\n",
    "    \n",
    "    def test_step(self, batch, batch_idx):\n",
    "        x, y, x_lens, y_lens = batch\n",
    "        \n",
    "        # your code to calculate loss\n",
    "        y_hat = self.forward(x)\n",
    "        y_hat_reshaped = y_hat.permute(1, 0, 2)  # Adjusting from [batch, seq_length, num_classes]\n",
    "        loss = self.criterion(y_hat_reshaped.log_softmax(2), y, x_lens, y_lens)\n",
    "\n",
    "        # your code to calculate total edit distance\n",
    "        total_edits = 0\n",
    "        total_lens = 0\n",
    "        total_edits_sym = 0\n",
    "        total_lens_sym = 0\n",
    "        total_edits_rel = 0\n",
    "        total_lens_rel = 0\n",
    "        # loop: calculate edit distance\n",
    "        for i in range(len(y)):\n",
    "            label = y[i].tolist()\n",
    "            label_seq = [vocab.index2word[index] for index in label]\n",
    "            pred_seq = self.decoder.forward(y_hat[i].log_softmax(1))\n",
    "            if len(label_seq) == 0:\n",
    "                continue\n",
    "            total_edits += edit_distance(pred_seq, label_seq)\n",
    "            total_lens += len(label_seq)\n",
    "            label_symbols, label_relations = self.separate_symbols_relations(label_seq)\n",
    "            pred_symbols, pred_relations = self.separate_symbols_relations(pred_seq)\n",
    "\n",
    "    \n",
    "            # Calculate edit distances for symbols and relations separately\n",
    "            total_edits_sym += edit_distance(pred_symbols, label_symbols)\n",
    "            total_lens_sym += len(label_symbols)\n",
    "            total_edits_rel += edit_distance(pred_relations, label_relations)\n",
    "            total_lens_rel += len(label_relations)\n",
    "        \n",
    "        self.log('test_loss', loss, prog_bar=True, on_step=False, on_epoch=True)\n",
    "        self.log('test_wer', total_edits / total_lens, prog_bar=True, on_step=False, on_epoch=True)\n",
    "\n",
    "        # complete the following metrics\n",
    "        self.log('test_wer_sym', total_edits_sym / total_lens_sym if total_lens_sym > 0 else 0, prog_bar=True, on_step=False, on_epoch=True)\n",
    "        self.log('test_wer_rel', total_edits_rel / total_lens_rel if total_lens_rel > 0 else 0, prog_bar=True, on_step=False, on_epoch=True)\n",
    "        return loss\n",
    "\n",
    "    def configure_optimizers(self):\n",
    "        return torch.optim.Adam(self.model.parameters(), lr=self.lr)"
   ]
  },
  {
   "cell_type": "code",
   "execution_count": 44,
   "metadata": {},
   "outputs": [
    {
     "name": "stderr",
     "output_type": "stream",
     "text": [
      "GPU available: True (cuda), used: True\n",
      "TPU available: False, using: 0 TPU cores\n",
      "HPU available: False, using: 0 HPUs\n",
      "LOCAL_RANK: 0 - CUDA_VISIBLE_DEVICES: [0]\n",
      "c:\\Users\\trian\\anaconda3\\envs\\DETR\\lib\\site-packages\\pytorch_lightning\\trainer\\connectors\\data_connector.py:424: The 'test_dataloader' does not have many workers which may be a bottleneck. Consider increasing the value of the `num_workers` argument` to `num_workers=19` in the `DataLoader` to improve performance.\n"
     ]
    },
    {
     "name": "stdout",
     "output_type": "stream",
     "text": [
      "Testing DataLoader 0:   0%|          | 0/986 [09:49<?, ?it/s]12.64it/s]\n",
      "Testing DataLoader 0: 100%|██████████| 986/986 [01:17<00:00, 12.68it/s]\n"
     ]
    },
    {
     "data": {
      "text/html": [
       "<pre style=\"white-space:pre;overflow-x:auto;line-height:normal;font-family:Menlo,'DejaVu Sans Mono',consolas,'Courier New',monospace\">┏━━━━━━━━━━━━━━━━━━━━━━━━━━━┳━━━━━━━━━━━━━━━━━━━━━━━━━━━┓\n",
       "┃<span style=\"font-weight: bold\">        Test metric        </span>┃<span style=\"font-weight: bold\">       DataLoader 0        </span>┃\n",
       "┡━━━━━━━━━━━━━━━━━━━━━━━━━━━╇━━━━━━━━━━━━━━━━━━━━━━━━━━━┩\n",
       "│<span style=\"color: #008080; text-decoration-color: #008080\">         test_loss         </span>│<span style=\"color: #800080; text-decoration-color: #800080\">    0.6263285875320435     </span>│\n",
       "│<span style=\"color: #008080; text-decoration-color: #008080\">         test_wer          </span>│<span style=\"color: #800080; text-decoration-color: #800080\">    0.16022250056266785    </span>│\n",
       "│<span style=\"color: #008080; text-decoration-color: #008080\">       test_wer_rel        </span>│<span style=\"color: #800080; text-decoration-color: #800080\">    0.13583049178123474    </span>│\n",
       "│<span style=\"color: #008080; text-decoration-color: #008080\">       test_wer_sym        </span>│<span style=\"color: #800080; text-decoration-color: #800080\">    0.17559733986854553    </span>│\n",
       "└───────────────────────────┴───────────────────────────┘\n",
       "</pre>\n"
      ],
      "text/plain": [
       "┏━━━━━━━━━━━━━━━━━━━━━━━━━━━┳━━━━━━━━━━━━━━━━━━━━━━━━━━━┓\n",
       "┃\u001b[1m \u001b[0m\u001b[1m       Test metric       \u001b[0m\u001b[1m \u001b[0m┃\u001b[1m \u001b[0m\u001b[1m      DataLoader 0       \u001b[0m\u001b[1m \u001b[0m┃\n",
       "┡━━━━━━━━━━━━━━━━━━━━━━━━━━━╇━━━━━━━━━━━━━━━━━━━━━━━━━━━┩\n",
       "│\u001b[36m \u001b[0m\u001b[36m        test_loss        \u001b[0m\u001b[36m \u001b[0m│\u001b[35m \u001b[0m\u001b[35m   0.6263285875320435    \u001b[0m\u001b[35m \u001b[0m│\n",
       "│\u001b[36m \u001b[0m\u001b[36m        test_wer         \u001b[0m\u001b[36m \u001b[0m│\u001b[35m \u001b[0m\u001b[35m   0.16022250056266785   \u001b[0m\u001b[35m \u001b[0m│\n",
       "│\u001b[36m \u001b[0m\u001b[36m      test_wer_rel       \u001b[0m\u001b[36m \u001b[0m│\u001b[35m \u001b[0m\u001b[35m   0.13583049178123474   \u001b[0m\u001b[35m \u001b[0m│\n",
       "│\u001b[36m \u001b[0m\u001b[36m      test_wer_sym       \u001b[0m\u001b[36m \u001b[0m│\u001b[35m \u001b[0m\u001b[35m   0.17559733986854553   \u001b[0m\u001b[35m \u001b[0m│\n",
       "└───────────────────────────┴───────────────────────────┘\n"
      ]
     },
     "metadata": {},
     "output_type": "display_data"
    }
   ],
   "source": [
    "from pytorch_lightning import Trainer\n",
    "\n",
    "trainer = Trainer(\n",
    "    devices = 1,\n",
    ")\n",
    "\n",
    "# Load the model from a checkpoint\n",
    "model = MathOnlineModel.load_from_checkpoint(\n",
    "    'lightning_logs/lightning_logs/version_2/checkpoints/epoch=4-val_wer=0.1602.ckpt', \n",
    "    decoder=GreedyCTCDecoder(dataset.vocab)\n",
    ")\n",
    "\n",
    "# Initialize the data module\n",
    "dm = CROHMEDatamodule(root_dir='crohme2019', \n",
    "                       train_annotation='crohme2019_train.txt', \n",
    "                       validation_annotation='crohme2019_valid.txt', \n",
    "                       test_annotation='crohme2019_valid.txt', \n",
    "                       vocab_file='crohme_vocab.txt', \n",
    "                       batch_size=1\n",
    "                       )\n",
    "\n",
    "# Test the model\n",
    "try:\n",
    "    trainer.test(model, datamodule=dm)\n",
    "except AttributeError:\n",
    "    print(\"Model is not implemented correctly\")\n",
    "    pass"
   ]
  },
  {
   "attachments": {
    "image.png": {
     "image/png": "[encoded data removed]"
    }
   },
   "cell_type": "markdown",
   "metadata": {},
   "source": [
    "![image.png](attachment:image.png)"
   ]
  },
  {
   "cell_type": "code",
   "execution_count": null,
   "metadata": {},
   "outputs": [],
   "source": []
  }
 ],
 "metadata": {
  "kernelspec": {
   "display_name": "IntroAI",
   "language": "python",
   "name": "python3"
  },
  "language_info": {
   "codemirror_mode": {
    "name": "ipython",
    "version": 3
   },
   "file_extension": ".py",
   "mimetype": "text/x-python",
   "name": "python",
   "nbconvert_exporter": "python",
   "pygments_lexer": "ipython3",
   "version": "3.10.13"
  }
 },
 "nbformat": 4,
 "nbformat_minor": 2
}
